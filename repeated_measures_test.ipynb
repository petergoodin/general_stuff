{
 "cells": [
  {
   "cell_type": "markdown",
   "metadata": {},
   "source": [
    "## Repeated measures ANOVA validation using pyvttlb & R"
   ]
  },
  {
   "cell_type": "code",
   "execution_count": 1,
   "metadata": {},
   "outputs": [
    {
     "name": "stderr",
     "output_type": "stream",
     "text": [
      "/home/orcasha/anaconda2/lib/python2.7/site-packages/statsmodels/compat/pandas.py:56: FutureWarning: The pandas.core.datetools module is deprecated and will be removed in a future version. Please use the pandas.tseries module instead.\n",
      "  from pandas.core import datetools\n"
     ]
    }
   ],
   "source": [
    "from __future__ import division\n",
    "\n",
    "import pandas as pd\n",
    "import numpy as np\n",
    "import seaborn as sns\n",
    "import scipy.stats\n",
    "import matplotlib.pylab as plt\n",
    "import statsmodels.api as sm\n",
    "import statsmodels.formula.api as smf\n",
    "import scipy.stats as stats\n",
    "import statsmodels.sandbox.stats as smsb\n",
    "import rpy2\n",
    "import warnings\n",
    "import itertools\n",
    "import pyvttbl as pt\n",
    "%load_ext rpy2.ipython"
   ]
  },
  {
   "cell_type": "markdown",
   "metadata": {},
   "source": [
    "### Create dataset from https://m-clark.github.io/docs/mixedModels/anovamixed.html"
   ]
  },
  {
   "cell_type": "code",
   "execution_count": 2,
   "metadata": {},
   "outputs": [
    {
     "name": "stderr",
     "output_type": "stream",
     "text": [
      "/home/orcasha/anaconda2/lib/python2.7/site-packages/rpy2/rinterface/__init__.py:186: RRuntimeWarning: \n",
      "Attaching package: ‘dplyr’\n",
      "\n",
      "\n",
      "  warnings.warn(x, RRuntimeWarning)\n",
      "/home/orcasha/anaconda2/lib/python2.7/site-packages/rpy2/rinterface/__init__.py:186: RRuntimeWarning: The following objects are masked from ‘package:stats’:\n",
      "\n",
      "    filter, lag\n",
      "\n",
      "\n",
      "  warnings.warn(x, RRuntimeWarning)\n",
      "/home/orcasha/anaconda2/lib/python2.7/site-packages/rpy2/rinterface/__init__.py:186: RRuntimeWarning: The following objects are masked from ‘package:base’:\n",
      "\n",
      "    intersect, setdiff, setequal, union\n",
      "\n",
      "\n",
      "  warnings.warn(x, RRuntimeWarning)\n"
     ]
    }
   ],
   "source": [
    "%R library(dplyr)\n",
    "%R library(lmPerm)\n",
    "%R treat  = rep(c('treat', 'control'), e=5)\n",
    "%R pre = c(20,10,60,20,10,50,10,40,20,10)\n",
    "%R post = c(70,50,90,60,50,20,10,30,50,10)\n",
    "\n",
    "%R df = data.frame(id=factor(1:10), treat, pre, post)\n",
    "%R change = post-pre\n",
    "\n",
    "%R dflong = tidyr::gather(df, key=time, value=score, pre:post) %>% arrange(id);"
   ]
  },
  {
   "cell_type": "markdown",
   "metadata": {},
   "source": [
    "### Now the same in python using dataframes"
   ]
  },
  {
   "cell_type": "code",
   "execution_count": 3,
   "metadata": {},
   "outputs": [],
   "source": [
    "df = pd.melt(pd.DataFrame({'treat': ['treat'] * 5 + ['control'] * 5, \n",
    "        'pre': [20,10,60,20,10,50,10,40,20,10], \n",
    "        'post': [70,50,90,60,50,20,10,30,50,10], 'id': range(1,11)}), \n",
    "             id_vars = ['treat', 'id'], \n",
    "             var_name = 'time',\n",
    "             value_vars = ['pre', 'post'], \n",
    "             value_name = 'score')"
   ]
  },
  {
   "cell_type": "markdown",
   "metadata": {},
   "source": [
    "## Fit repeated measures using ID as the random variable"
   ]
  },
  {
   "cell_type": "code",
   "execution_count": 4,
   "metadata": {},
   "outputs": [
    {
     "name": "stdout",
     "output_type": "stream",
     "text": [
      "\n",
      "Error: id\n",
      "          Df Sum Sq Mean Sq F value Pr(>F)\n",
      "treat      1   1805    1805   3.406  0.102\n",
      "Residuals  8   4240     530               \n",
      "\n",
      "Error: Within\n",
      "           Df Sum Sq Mean Sq F value  Pr(>F)   \n",
      "time        1   1805    1805   13.88 0.00582 **\n",
      "treat:time  1   2205    2205   16.96 0.00335 **\n",
      "Residuals   8   1040     130                   \n",
      "---\n",
      "Signif. codes:  0 ‘***’ 0.001 ‘**’ 0.01 ‘*’ 0.05 ‘.’ 0.1 ‘ ’ 1\n",
      "\n"
     ]
    }
   ],
   "source": [
    "%R anovaModelRM = aov(score ~ treat*time + Error(id), dflong)\n",
    "%R summary <- summary(anovaModelRM)\n",
    "%Rpull summary\n",
    "print(summary)"
   ]
  },
  {
   "cell_type": "markdown",
   "metadata": {},
   "source": [
    "## Do the same using pyvttlb"
   ]
  },
  {
   "cell_type": "code",
   "execution_count": 5,
   "metadata": {},
   "outputs": [
    {
     "name": "stdout",
     "output_type": "stream",
     "text": [
      "score ~ time * treat\n",
      "\n",
      "TESTS OF BETWEEN-SUBJECTS EFFECTS\n",
      "\n",
      "Measure: score\n",
      "     Source        Type III   df    MS      F     Sig.    et2_G   Obs.     SE     95% CI   lambda   Obs.  \n",
      "                      SS                                                                            Power \n",
      "=========================================================================================================\n",
      "Between Subjects       6045    9                                                                          \n",
      "treat                  1805    1   1805   3.406   0.102   0.255      5   12.113   23.742    2.129   0.251 \n",
      "=========================================================================================================\n",
      "Error                  4240    8    530                                                                   \n",
      "\n",
      "TESTS OF WITHIN SUBJECTS EFFECTS\n",
      "\n",
      "Measure: score\n",
      "   Source                           Type III   eps   df    MS      F      Sig.    et2_G   Obs.    SE     95% CI   lambda   Obs.  \n",
      "                                       SS                                                                                  Power \n",
      "================================================================================================================================\n",
      "time           Sphericity Assumed       1805     -    1   1805   13.885   0.006   0.255     10   4.242    8.314   17.356   0.953 \n",
      "               Greenhouse-Geisser       1805     1    1   1805   13.885   0.006   0.255     10   4.242    8.314   17.356   0.953 \n",
      "               Huynh-Feldt              1805     1    1   1805   13.885   0.006   0.255     10   4.242    8.314   17.356   0.953 \n",
      "               Box                      1805     1    1   1805   13.885   0.006   0.255     10   4.242    8.314   17.356   0.953 \n",
      "--------------------------------------------------------------------------------------------------------------------------------\n",
      "time * treat   Sphericity Assumed       2205     -    1   2205   16.962   0.003   0.295      5   5.999   11.758   10.601   0.813 \n",
      "               Greenhouse-Geisser       2205     1    1   2205   16.962   0.003   0.295      5   5.999   11.758   10.601   0.813 \n",
      "               Huynh-Feldt              2205     1    1   2205   16.962   0.003   0.295      5   5.999   11.758   10.601   0.813 \n",
      "               Box                      2205     1    1   2205   16.962   0.003   0.295      5   5.999   11.758   10.601   0.813 \n",
      "--------------------------------------------------------------------------------------------------------------------------------\n",
      "Error(time)    Sphericity Assumed       1040     -    8    130                                                                   \n",
      "               Greenhouse-Geisser       1040     1    8    130                                                                   \n",
      "               Huynh-Feldt              1040     1    8    130                                                                   \n",
      "               Box                      1040     1    8    130                                                                   \n",
      "\n",
      "TABLES OF ESTIMATED MARGINAL MEANS\n",
      "\n",
      "Estimated Marginal Means for time\n",
      "time   Mean   Std. Error   95% Lower Bound   95% Upper Bound \n",
      "============================================================\n",
      "post     44        8.327            27.680            60.320 \n",
      "pre      25        5.821            13.590            36.410 \n",
      "\n",
      "Estimated Marginal Means for treat\n",
      " treat    Mean   Std. Error   95% Lower Bound   95% Upper Bound \n",
      "===============================================================\n",
      "control     25        5.217            14.774            35.226 \n",
      "treat       44        8.718            26.913            61.087 \n",
      "\n",
      "Estimated Marginal Means for time * treat\n",
      "time    treat    Mean   Std. Error   95% Lower Bound   95% Upper Bound \n",
      "======================================================================\n",
      "post   control     24        7.483             9.333            38.667 \n",
      "post   treat       64        7.483            49.333            78.667 \n",
      "pre    control     26        8.124            10.077            41.923 \n",
      "pre    treat       24        9.274             5.824            42.176 \n",
      "\n",
      "\n"
     ]
    },
    {
     "name": "stderr",
     "output_type": "stream",
     "text": [
      "/home/orcasha/anaconda2/lib/python2.7/site-packages/pyvttbl/stats/_anova.py:1240: VisibleDeprecationWarning: using a non-integer number instead of an integer will result in an error in the future\n",
      "  return list(array(list(zeros((p-len(b))))+b)+1.)\n"
     ]
    }
   ],
   "source": [
    "x = pt.DataFrame(df)\n",
    "aov = x.anova('score', sub = 'id', wfactors = ['time'], bfactors = ['treat'])\n",
    "print(aov)"
   ]
  },
  {
   "cell_type": "code",
   "execution_count": 6,
   "metadata": {},
   "outputs": [
    {
     "name": "stdout",
     "output_type": "stream",
     "text": [
      "[('time',), ('treat',), ('time', 'treat'), ('id',), ('TOTAL',), ('WITHIN',), ('time', 'id')]\n"
     ]
    }
   ],
   "source": [
    "#Extracting data from the object\n",
    "\n",
    "print(aov.keys())"
   ]
  },
  {
   "cell_type": "code",
   "execution_count": 7,
   "metadata": {},
   "outputs": [
    {
     "name": "stdout",
     "output_type": "stream",
     "text": [
      "(('time',), {'power_gg': 0.95254063239451958, 'ci': 8.3144161502948037, 'critT': 2.3060041350333709, 'F_lb': 13.884615384615385, 'df_gg': 1.0, 'F_hf': 13.884615384615385, 'se_gg': 4.242049056272859, 'se_hf': 4.242049056272859, 'y2': array([ 39.25,  29.75]), 'eps_lb': 1.0, 'lambda_gg': 17.35576923076923, 'se_lb': 4.242049056272859, 'df_hf': 1.0, 'dfe_hf': 8.0, 'ci_lb': 8.3144161502948037, 'eps_gg': 1.0, 'df_lb': 1.0, 'mss': 1805.0, 'p_hf': 0.0058193283883128761, 'power_lb': 0.95254063239451958, 'critT_hf': 2.3060041350333709, 'lambda_hf': 17.35576923076923, 'mse_lb': 130.0, 'dfe': 8.0, 'obs_gg': 10.0, 'mse': 130.0, 'mse_hf': 130.0, 'critT_gg': 2.3060041350333709, 'power': 0.95254063239451958, 'F': 13.884615384615385, 'df': 1.0, 'ci_gg': 8.3144161502948037, 'mse_gg': 130.0, 'mss_gg': 1805.0, 'dfe_lb': 8.0, 'critT_lb': 2.3060041350333709, 'sse': 1040.0, 'p_lb': 0.0058193283883128761, 'power_hf': 0.95254063239451958, 'F_gg': 13.884615384615385, 'eps_hf': 1.0, 'dfe_gg': 8.0, 'ss': 1805.0, 'ci_hf': 8.3144161502948037, 'mss_lb': 1805.0, 'obs_lb': 10.0, 'p_gg': 0.0058193283883128761, 'p': 0.0058193283883128761, 'eta': 0.25476358503881441, 'obs_hf': 10.0, 'mss_hf': 1805.0, 'lambda_lb': 17.35576923076923, 'obs': 10.0, 'se': 4.242049056272859, 'lambda': 17.35576923076923})\n"
     ]
    }
   ],
   "source": [
    "#Effects can be accessed from the tuple using indexing (eg. 0 = time, 1 = treat, 2 = interaction)\n",
    "print(aov.items())[0]"
   ]
  },
  {
   "cell_type": "code",
   "execution_count": 8,
   "metadata": {},
   "outputs": [
    {
     "name": "stdout",
     "output_type": "stream",
     "text": [
      "13.8846153846\n"
     ]
    }
   ],
   "source": [
    "#Specific items within tuple: 0 = effect name, 1 = dictionary (then access as a normal dict)\n",
    "print(aov.items())[0][1]['F']"
   ]
  },
  {
   "cell_type": "markdown",
   "metadata": {},
   "source": [
    "## Summary:\n",
    "\n",
    "ID effect on Treatment in R: F = 3.406, p = 0.102\n",
    "\n",
    "ID effect on Treatment in Python: F = 3.406   p = 0.102\n",
    "\n",
    "R adjusted effects:\n",
    "\n",
    "| condition | Df | Sum Sq | Mean Sq | F value |  Pr(>F) |\n",
    "| --------- | -- | ------ | ------- | ------- | ------- |\n",
    "|time | 1 | 1805 | 1805 | 13.88 | 0.00582 | \n",
    "|treat:time | 1 | 2205 | 2205 | 16.96 | 0.00335 |\n",
    "\n",
    "Python adjusted effects:\n",
    "\n",
    "| condition | Df | Sum Sq | Mean Sq | F value |  Pr(>F) |\n",
    "| --------- | -- | ------ | ------- | ------- | ------- |\n",
    "| time | 1 | 1805 | 1805 | 13.885 | 0.006 |\n",
    "| time * treat | 1 | 2205 | 2205 | 16.962 | 0.003 |\n",
    "\n",
    "\n",
    "## Identical.\n",
    "\n",
    "\n",
    "\n",
    "\n",
    "\n"
   ]
  }
 ],
 "metadata": {
  "kernelspec": {
   "display_name": "Python [conda root]",
   "language": "python",
   "name": "conda-root-py"
  },
  "language_info": {
   "codemirror_mode": {
    "name": "ipython",
    "version": 2
   },
   "file_extension": ".py",
   "mimetype": "text/x-python",
   "name": "python",
   "nbconvert_exporter": "python",
   "pygments_lexer": "ipython2",
   "version": "2.7.11"
  }
 },
 "nbformat": 4,
 "nbformat_minor": 2
}
